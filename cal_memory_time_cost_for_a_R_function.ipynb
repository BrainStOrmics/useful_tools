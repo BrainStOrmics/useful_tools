{
 "cells": [
  {
   "cell_type": "code",
   "execution_count": 1,
   "id": "56c03080-0741-4443-b808-71484158453c",
   "metadata": {},
   "outputs": [],
   "source": [
    "library(peakRAM)"
   ]
  },
  {
   "cell_type": "markdown",
   "id": "406cb662-d5d8-4873-a243-91f60bfb3ed9",
   "metadata": {},
   "source": [
    "you can use peakRAM funciton in peakRAM package to record memory and time consumption"
   ]
  },
  {
   "cell_type": "markdown",
   "id": "cd78a453-23e9-4828-ba1d-d334d95ba191",
   "metadata": {},
   "source": [
    "# defind the app function you want to record"
   ]
  },
  {
   "cell_type": "code",
   "execution_count": 2,
   "id": "e64f579d-d32d-41d2-a5ae-f8a9846e442c",
   "metadata": {},
   "outputs": [],
   "source": [
    "app <- function(a=10) {\n",
    "    mx <- replicate(a, rnorm(1e6))\n",
    "    return(mx) # this would be neglected by peakRAM\n",
    "}"
   ]
  },
  {
   "cell_type": "markdown",
   "id": "8ec51a9d-dbb0-4952-bcda-233ce6eb129b",
   "metadata": {},
   "source": [
    "# run app function within peakRAM function"
   ]
  },
  {
   "cell_type": "markdown",
   "id": "65cf11c4-63d3-4410-8c1e-c5808d5c1b59",
   "metadata": {},
   "source": [
    "whether app funciton return something or not, peakRAM will not return anything from app"
   ]
  },
  {
   "cell_type": "code",
   "execution_count": null,
   "id": "6b0da01e-f4bf-4a51-b71a-c248123c21f1",
   "metadata": {},
   "outputs": [],
   "source": [
    "reso_df = peakRAM(app(a=10))\n",
    "reso_df"
   ]
  }
 ],
 "metadata": {
  "kernelspec": {
   "display_name": "R [conda env:BayesSpace]",
   "language": "R",
   "name": "conda-env-BayesSpace-r"
  },
  "language_info": {
   "codemirror_mode": "r",
   "file_extension": ".r",
   "mimetype": "text/x-r-source",
   "name": "R",
   "pygments_lexer": "r",
   "version": "4.2.0"
  }
 },
 "nbformat": 4,
 "nbformat_minor": 5
}
